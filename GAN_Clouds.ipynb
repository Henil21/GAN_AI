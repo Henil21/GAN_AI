{
  "cells": [
    {
      "cell_type": "markdown",
      "metadata": {
        "id": "view-in-github",
        "colab_type": "text"
      },
      "source": [
        "<a href=\"https://colab.research.google.com/github/Henil21/GAN_AI/blob/main/GAN_Clouds.ipynb\" target=\"_parent\"><img src=\"https://colab.research.google.com/assets/colab-badge.svg\" alt=\"Open In Colab\"/></a>"
      ]
    },
    {
      "cell_type": "code",
      "execution_count": null,
      "metadata": {
        "colab": {
          "base_uri": "https://localhost:8080/"
        },
        "id": "xJzRq2GToYjI",
        "outputId": "884de90a-0551-40ff-c492-7537cddd8e80"
      },
      "outputs": [
        {
          "name": "stdout",
          "output_type": "stream",
          "text": [
            "Drive already mounted at /content/drive; to attempt to forcibly remount, call drive.mount(\"/content/drive\", force_remount=True).\n"
          ]
        }
      ],
      "source": [
        "from google.colab import drive\n",
        "drive.mount('/content/drive')"
      ]
    },
    {
      "cell_type": "code",
      "execution_count": null,
      "metadata": {
        "id": "YOckP_sYQcda"
      },
      "outputs": [],
      "source": [
        "# data_train='/content/drive/MyDrive/cloud/'\n",
        "import tensorflow as tf\n",
        "import glob\n",
        "import imageio\n",
        "import matplotlib.pyplot as plt\n",
        "import numpy as np\n",
        "import os\n",
        "import PIL\n",
        "from tensorflow.keras import layers\n",
        "from tensorflow.keras.optimizers import Adam\n",
        "from tensorflow.keras.losses import BinaryCrossentropy\n",
        "import time\n",
        "from tensorflow.keras.utils import load_img, array_to_img\n",
        "import cv2 as cv\n",
        "from IPython import display\n",
        "import matplotlib.image as mpimg\n",
        "from tqdm.notebook import tqdm\n",
        "from tensorflow import keras"
      ]
    },
    {
      "cell_type": "code",
      "execution_count": null,
      "metadata": {
        "id": "_F9FfyFSQl_5"
      },
      "outputs": [],
      "source": [
        "data_train='/content/drive/MyDrive/cloud/clouds'\n",
        "import os\n",
        "images=[]\n",
        "for image_name in  os.listdir(data_train):\n",
        "  image_path=os.path.join(data_train,image_name)\n",
        "  images.append(image_path)\n",
        "  images=images[:400]"
      ]
    },
    {
      "cell_type": "code",
      "execution_count": null,
      "metadata": {
        "id": "v_EcOgAdvDzF"
      },
      "outputs": [],
      "source": [
        "# def visualize_Images(images_data):\n",
        "\n",
        "#     import random\n",
        "#     visul=random.sample(images_data,14)\n",
        "#     plt.figure(figsize=(20,20))\n",
        "#     temp_img=visul[:14]\n",
        "\n",
        "#     index=1\n",
        "\n",
        "#     for imag in temp_img:\n",
        "#       # image = image / 255.0  # Rescale image values to range 0-1\n",
        "#       plt.subplot(7,7,index)\n",
        "#       # print(imag)\n",
        "#       image=load_img(imag)\n",
        "#       image=np.array(image)\n",
        "#       plt.imshow(image)\n",
        "#       plt.axis(\"off\")\n",
        "#       index+=1"
      ]
    },
    {
      "cell_type": "code",
      "execution_count": null,
      "metadata": {
        "id": "gnT1UXYkvFmc"
      },
      "outputs": [],
      "source": [
        "# visualize_Images(images)"
      ]
    },
    {
      "cell_type": "code",
      "execution_count": null,
      "metadata": {
        "colab": {
          "base_uri": "https://localhost:8080/",
          "height": 49,
          "referenced_widgets": [
            "55abe3f5858944f7ba324c9325ff5036",
            "0afec1c2ce54483d99f7a7112fe93749",
            "8b436b43f38e47d3807696ee1a98798e",
            "bfd67f4a1341478e96514183ed114f01",
            "6d26052eed0a4663b60b427a0e9f6f5a",
            "fedd3ef0fe404bba96c9035f91aea98c",
            "709ac57052814b7ba0448864ad29bb45",
            "8f3c522e01c34e05a75f8d02a86f3535",
            "17da1792d0194bbabc890148e7d2aa0e",
            "6d7706369511413fb394f9f5f5f29235",
            "95b37a236cda418485445eae58a6bc36"
          ]
        },
        "id": "xalsFDNyQp66",
        "outputId": "f00c0831-9d9e-4f4c-ea30-227964e1ada5"
      },
      "outputs": [
        {
          "data": {
            "application/vnd.jupyter.widget-view+json": {
              "model_id": "55abe3f5858944f7ba324c9325ff5036",
              "version_major": 2,
              "version_minor": 0
            },
            "text/plain": [
              "  0%|          | 0/400 [00:00<?, ?it/s]"
            ]
          },
          "metadata": {},
          "output_type": "display_data"
        }
      ],
      "source": [
        "train_images=[np.array(load_img(path)) for path in tqdm(images)]\n",
        "train_images=np.array(train_images)"
      ]
    },
    {
      "cell_type": "code",
      "execution_count": null,
      "metadata": {
        "id": "XryjXIYhQ_gM"
      },
      "outputs": [],
      "source": [
        "train_images=train_images.reshape(train_images.shape[0],512,512,3).astype('float32')"
      ]
    },
    {
      "cell_type": "code",
      "execution_count": null,
      "metadata": {
        "id": "beJ_3jq4JkDD"
      },
      "outputs": [],
      "source": [
        "train_images=(train_images-127.5)/127.5\n",
        "# train_images[0]"
      ]
    },
    {
      "cell_type": "code",
      "execution_count": null,
      "metadata": {
        "id": "kbg5pOhxOKbY"
      },
      "outputs": [],
      "source": [
        "LATEN_DIM=100\n",
        "Weight_init=keras.initializers.RandomNormal(mean=0.0,stddev=0.02)\n",
        "CHANNELS=3 # 1 if we are using gray-scale"
      ]
    },
    {
      "cell_type": "code",
      "execution_count": null,
      "metadata": {
        "colab": {
          "base_uri": "https://localhost:8080/"
        },
        "id": "zkUflk53tj34",
        "outputId": "59498ba0-bd83-40b2-df5d-75db6f73ca21"
      },
      "outputs": [
        {
          "name": "stdout",
          "output_type": "stream",
          "text": [
            "Model: \"generator\"\n",
            "_________________________________________________________________\n",
            " Layer (type)                Output Shape              Param #   \n",
            "=================================================================\n",
            " dense (Dense)               (None, 131072)            13238272  \n",
            "                                                                 \n",
            " batch_normalization (BatchN  (None, 131072)           524288    \n",
            " ormalization)                                                   \n",
            "                                                                 \n",
            " re_lu (ReLU)                (None, 131072)            0         \n",
            "                                                                 \n",
            " reshape (Reshape)           (None, 16, 16, 512)       0         \n",
            "                                                                 \n",
            " conv2d_transpose (Conv2DTra  (None, 32, 32, 256)      2097408   \n",
            " nspose)                                                         \n",
            "                                                                 \n",
            " batch_normalization_1 (Batc  (None, 32, 32, 256)      1024      \n",
            " hNormalization)                                                 \n",
            "                                                                 \n",
            " re_lu_1 (ReLU)              (None, 32, 32, 256)       0         \n",
            "                                                                 \n",
            " conv2d_transpose_1 (Conv2DT  (None, 64, 64, 128)      524416    \n",
            " ranspose)                                                       \n",
            "                                                                 \n",
            " batch_normalization_2 (Batc  (None, 64, 64, 128)      512       \n",
            " hNormalization)                                                 \n",
            "                                                                 \n",
            " re_lu_2 (ReLU)              (None, 64, 64, 128)       0         \n",
            "                                                                 \n",
            " conv2d_transpose_2 (Conv2DT  (None, 128, 128, 64)     131136    \n",
            " ranspose)                                                       \n",
            "                                                                 \n",
            " batch_normalization_3 (Batc  (None, 128, 128, 64)     256       \n",
            " hNormalization)                                                 \n",
            "                                                                 \n",
            " re_lu_3 (ReLU)              (None, 128, 128, 64)      0         \n",
            "                                                                 \n",
            " conv2d_transpose_3 (Conv2DT  (None, 256, 256, 32)     32800     \n",
            " ranspose)                                                       \n",
            "                                                                 \n",
            " batch_normalization_4 (Batc  (None, 256, 256, 32)     128       \n",
            " hNormalization)                                                 \n",
            "                                                                 \n",
            " re_lu_4 (ReLU)              (None, 256, 256, 32)      0         \n",
            "                                                                 \n",
            " conv2d_transpose_4 (Conv2DT  (None, 512, 512, 16)     8208      \n",
            " ranspose)                                                       \n",
            "                                                                 \n",
            " batch_normalization_5 (Batc  (None, 512, 512, 16)     64        \n",
            " hNormalization)                                                 \n",
            "                                                                 \n",
            " re_lu_5 (ReLU)              (None, 512, 512, 16)      0         \n",
            "                                                                 \n",
            " conv2d (Conv2D)             (None, 512, 512, 3)       771       \n"
          ]
        },
        {
          "name": "stderr",
          "output_type": "stream",
          "text": [
            "/usr/local/lib/python3.10/dist-packages/keras/initializers/initializers.py:120: UserWarning: The initializer RandomNormal is unseeded and being called multiple times, which will return identical values each time (even if the initializer is unseeded). Please update your code to provide a seed to the initializer, or avoid using the same initalizer instance more than once.\n",
            "  warnings.warn(\n"
          ]
        },
        {
          "name": "stdout",
          "output_type": "stream",
          "text": [
            "                                                                 \n",
            "=================================================================\n",
            "Total params: 16,559,283\n",
            "Trainable params: 16,296,147\n",
            "Non-trainable params: 263,136\n",
            "_________________________________________________________________\n"
          ]
        }
      ],
      "source": [
        "model=tf.keras.Sequential(name=\"generator\")\n",
        "model.add(layers.Dense(16*16*512, input_dim=(LATEN_DIM))) # generating random noise\n",
        "model.add(layers.BatchNormalization())\n",
        "model.add(layers.ReLU())\n",
        "\n",
        "# converting 1D to 3D we have 3 channels\n",
        "model.add(layers.Reshape((16, 16, 512)))\n",
        "\n",
        "#  upstamp to 32x32\n",
        "model.add(layers.Conv2DTranspose(256, (4, 4), strides=(2, 2), padding='same', kernel_initializer=Weight_init))\n",
        "model.add(layers.BatchNormalization())\n",
        "model.add(layers.ReLU())\n",
        "\n",
        "# upstamp to 64x64\n",
        "model.add(layers.Conv2DTranspose(128, (4, 4), strides=(2, 2), padding='same', kernel_initializer=Weight_init))\n",
        "model.add(layers.BatchNormalization())\n",
        "model.add(layers.ReLU())\n",
        "\n",
        "# upstamp to 128x128\n",
        "model.add(layers.Conv2DTranspose(64, (4, 4), strides=(2, 2), padding='same', kernel_initializer=Weight_init))\n",
        "model.add(layers.BatchNormalization())\n",
        "model.add(layers.ReLU())\n",
        "\n",
        "# upstamp to 256x256\n",
        "model.add(layers.Conv2DTranspose(32, (4, 4), strides=(2, 2), padding='same', kernel_initializer=Weight_init))\n",
        "model.add(layers.BatchNormalization())\n",
        "model.add(layers.ReLU())\n",
        "\n",
        "# upstamp to 512x512\n",
        "model.add(layers.Conv2DTranspose(16, (4, 4), strides=(2, 2), padding='same', kernel_initializer=Weight_init))\n",
        "model.add(layers.BatchNormalization())\n",
        "model.add(layers.ReLU())\n",
        "\n",
        "# output layer: 512x512 with 3 channels\n",
        "model.add(layers.Conv2D(CHANNELS, (4, 4), padding='same', activation='tanh'))\n",
        "\n",
        "generator = model\n",
        "\n",
        "generator.summary()"
      ]
    },
    {
      "cell_type": "code",
      "execution_count": null,
      "metadata": {
        "colab": {
          "base_uri": "https://localhost:8080/"
        },
        "id": "TXTPZV0wtl4w",
        "outputId": "1327279f-f46d-45ee-f08b-f3cf4e3c0969"
      },
      "outputs": [
        {
          "name": "stdout",
          "output_type": "stream",
          "text": [
            "Model: \"discriminator\"\n",
            "_________________________________________________________________\n",
            " Layer (type)                Output Shape              Param #   \n",
            "=================================================================\n",
            " conv2d_1 (Conv2D)           (None, 256, 256, 64)      3136      \n",
            "                                                                 \n",
            " batch_normalization_6 (Batc  (None, 256, 256, 64)     256       \n",
            " hNormalization)                                                 \n",
            "                                                                 \n",
            " leaky_re_lu (LeakyReLU)     (None, 256, 256, 64)      0         \n",
            "                                                                 \n",
            " conv2d_2 (Conv2D)           (None, 128, 128, 128)     131200    \n",
            "                                                                 \n",
            " batch_normalization_7 (Batc  (None, 128, 128, 128)    512       \n",
            " hNormalization)                                                 \n",
            "                                                                 \n",
            " leaky_re_lu_1 (LeakyReLU)   (None, 128, 128, 128)     0         \n",
            "                                                                 \n",
            " conv2d_3 (Conv2D)           (None, 64, 64, 128)       262272    \n",
            "                                                                 \n",
            " batch_normalization_8 (Batc  (None, 64, 64, 128)      512       \n",
            " hNormalization)                                                 \n",
            "                                                                 \n",
            " leaky_re_lu_2 (LeakyReLU)   (None, 64, 64, 128)       0         \n",
            "                                                                 \n",
            " flatten (Flatten)           (None, 524288)            0         \n",
            "                                                                 \n",
            " dropout (Dropout)           (None, 524288)            0         \n",
            "                                                                 \n",
            " dense_1 (Dense)             (None, 1)                 524289    \n",
            "                                                                 \n",
            "=================================================================\n",
            "Total params: 922,177\n",
            "Trainable params: 921,537\n",
            "Non-trainable params: 640\n",
            "_________________________________________________________________\n"
          ]
        }
      ],
      "source": [
        "model=tf.keras.Sequential(name='discriminator')\n",
        "input_shape=(512,512,3)\n",
        "alpha=0.2\n",
        "\n",
        "model.add(layers.Conv2D(64,(4,4),strides=(2,2),padding='same',input_shape=input_shape))\n",
        "model.add(layers.BatchNormalization())\n",
        "model.add(layers.LeakyReLU(alpha=alpha))\n",
        "\n",
        "model.add(layers.Conv2D(128,(4,4),strides=(2,2),padding='same',input_shape=input_shape))\n",
        "model.add(layers.BatchNormalization())\n",
        "model.add(layers.LeakyReLU(alpha=alpha))\n",
        "\n",
        "model.add(layers.Conv2D(128,(4,4),strides=(2,2),padding='same',input_shape=input_shape))\n",
        "model.add(layers.BatchNormalization())\n",
        "model.add(layers.LeakyReLU(alpha=alpha))\n",
        "\n",
        "model.add(layers.Flatten())\n",
        "model.add(layers.Dropout(0.3))\n",
        "\n",
        "# output class\n",
        "model.add(layers.Dense(1,activation='sigmoid'))\n",
        "discriminator=model\n",
        "discriminator.summary()"
      ]
    },
    {
      "cell_type": "code",
      "execution_count": null,
      "metadata": {
        "id": "Dc0rKd7KtnNR"
      },
      "outputs": [],
      "source": [
        "class DCGAN(keras.Model):\n",
        "    def __init__(self,generator,discriminator,latent_dim):\n",
        "        super(DCGAN,self).__init__()\n",
        "        self.generator=generator\n",
        "        self.discriminator=discriminator\n",
        "        self.latent_dim=latent_dim\n",
        "\n",
        "        self.g_loss_metric = keras.metrics.Mean(name='g_loss')\n",
        "        self.d_loss_metric = keras.metrics.Mean(name='d_loss')\n",
        "\n",
        "\n",
        "    @property\n",
        "    def metrics(self):\n",
        "      return[self.g_loss_metric,self.d_loss_metric]\n",
        "    def compile(self,g_optimizer,d_optimizer ,loss_fn):\n",
        "      super(DCGAN,self).compile()\n",
        "      self.g_optimizer=g_optimizer\n",
        "      self.d_optimizer=d_optimizer\n",
        "      self.loss_fn=loss_fn\n",
        "    def train_step(self,real_images):\n",
        "      # get batch size\n",
        "      batch_size=tf.shape(real_images)[0]\n",
        "      # generate random noise\n",
        "      random_noise = tf.random.normal(shape=(batch_size, self.latent_dim))\n",
        "\n",
        "      # train discriminator with range real(1) and fake(0) images\n",
        "      with tf.GradientTape() as tape:\n",
        "            # compute loss on real images\n",
        "            pred_real = self.discriminator(real_images, training=True)\n",
        "            # generate real image labels\n",
        "            real_labels = tf.ones((batch_size, 1))\n",
        "            # label smoothing\n",
        "            real_labels += 0.05 * tf.random.uniform(tf.shape(real_labels))\n",
        "            d_loss_real = self.loss_fn(real_labels, pred_real)\n",
        "\n",
        "            # compute loss on fake images\n",
        "            fake_images = self.generator(random_noise)\n",
        "            pred_fake = self.discriminator(fake_images, training=True)\n",
        "            # generate fake labels\n",
        "            fake_labels = tf.zeros((batch_size, 1))\n",
        "            d_loss_fake = self.loss_fn(fake_labels, pred_fake)\n",
        "\n",
        "            # total discriminator loss\n",
        "            d_loss = (d_loss_real + d_loss_fake) / 2\n",
        "\n",
        "        # compute discriminator gradients\n",
        "      gradients = tape.gradient(d_loss, self.discriminator.trainable_variables)\n",
        "        # update the gradients\n",
        "      self.d_optimizer.apply_gradients(zip(gradients, self.discriminator.trainable_variables))\n",
        "\n",
        "\n",
        "        # train the generator model\n",
        "      labels = tf.ones((batch_size, 1))\n",
        "        # generator want discriminator to think that fake images are real\n",
        "      with tf.GradientTape() as tape:\n",
        "            # generate fake images from generator\n",
        "            fake_images = self.generator(random_noise, training=True)\n",
        "            # classify images as real or fake\n",
        "            pred_fake = self.discriminator(fake_images, training=True)\n",
        "            # compute loss\n",
        "            g_loss = self.loss_fn(labels, pred_fake)\n",
        "\n",
        "        # compute gradients\n",
        "      gradients = tape.gradient(g_loss, self.generator.trainable_variables)\n",
        "        # update the gradients\n",
        "      self.g_optimizer.apply_gradients(zip(gradients, self.generator.trainable_variables))\n",
        "\n",
        "        # update states for both models\n",
        "      self.d_loss_metric.update_state(d_loss)\n",
        "      self.g_loss_metric.update_state(g_loss)\n",
        "\n",
        "      return {'d_loss': self.d_loss_metric.result(), 'g_loss': self.g_loss_metric.result()}"
      ]
    },
    {
      "cell_type": "code",
      "execution_count": null,
      "metadata": {
        "id": "cD2zmTXctohx"
      },
      "outputs": [],
      "source": [
        "class DCGANMonitor(keras.callbacks.Callback):\n",
        "    def __init__(self, num_imgs=4, latent_dim=100):\n",
        "        self.num_imgs = num_imgs\n",
        "        self.latent_dim = latent_dim\n",
        "        # create random noise for generating images\n",
        "        self.noise = tf.random.normal([9, latent_dim])\n",
        "\n",
        "    def on_epoch_end(self, epoch, logs=None):\n",
        "        # generate the image from noise\n",
        "        g_img = self.model.generator(tf.random.normal([4, self.latent_dim]))\n",
        "        # denormalize the image\n",
        "        g_img = (g_img * 127.5) + 127.5\n",
        "        g_img.numpy()\n",
        "\n",
        "        fig = plt.figure(figsize=(8, 8))\n",
        "        for i in range(self.num_imgs):\n",
        "            plt.subplot(2, 2, i+1)\n",
        "            img = array_to_img(g_img[i])\n",
        "            plt.imshow(img)\n",
        "            plt.axis('off')\n",
        "        # plt.savefig('epoch_{:03d}.png'.format(epoch))\n",
        "        plt.show()\n",
        "\n",
        "    def on_train_end(self, logs=None):\n",
        "        self.model.generator.save('generator.h5')"
      ]
    },
    {
      "cell_type": "code",
      "execution_count": null,
      "metadata": {
        "colab": {
          "base_uri": "https://localhost:8080/"
        },
        "id": "h4DtWqnCtqFx",
        "outputId": "36e67c20-d19d-45c6-f9ae-d0d75fd46354"
      },
      "outputs": [
        {
          "name": "stderr",
          "output_type": "stream",
          "text": [
            "WARNING:tensorflow:`period` argument is deprecated. Please use `save_freq` to specify the frequency in number of batches seen.\n"
          ]
        }
      ],
      "source": [
        "dcgan=DCGAN(generator,discriminator,LATEN_DIM)\n",
        "# checkpoint_callback = ModelCheckpoint('/content/drive/MyDrive/Checkpoints{epoch:03d}.h5', save_freq=10)\n",
        "# Define the checkpoint callback\n",
        "checkpoint_callback = keras.callbacks.ModelCheckpoint(\n",
        "    '/content/drive/MyDrive/Checkpoints/Checkpoints{epoch:03d}.h5',\n",
        "    save_weights_only=True,\n",
        "    period=10  # Save weights every 10 epochs\n",
        ")"
      ]
    },
    {
      "cell_type": "code",
      "execution_count": null,
      "metadata": {
        "id": "adQeqFfmtruK"
      },
      "outputs": [],
      "source": [
        "D_LR=0.001\n",
        "G_LR=0.005\n",
        "dcgan.compile(g_optimizer=Adam(learning_rate=G_LR,beta_1=0.5),d_optimizer=Adam(learning_rate=D_LR,beta_1=0.5),loss_fn=BinaryCrossentropy())"
      ]
    },
    {
      "cell_type": "code",
      "execution_count": null,
      "metadata": {
        "colab": {
          "background_save": true
        },
        "id": "VeLqJ8vvtt1h"
      },
      "outputs": [],
      "source": [
        "N_epoch=130\n",
        "latest_checkpoint = tf.train.latest_checkpoint(\"/content/drive/MyDrive/Checkpoints/Checkpoints\")\n",
        "if latest_checkpoint:\n",
        "    dcgan.load_weights(latest_checkpoint)\n",
        "dcgan.fit(train_images,epochs=N_epoch,callbacks=[DCGANMonitor(),checkpoint_callback])"
      ]
    }
  ],
  "metadata": {
    "accelerator": "TPU",
    "colab": {
      "machine_shape": "hm",
      "provenance": [],
      "include_colab_link": true
    },
    "kernelspec": {
      "display_name": "Python 3",
      "name": "python3"
    },
    "widgets": {
      "application/vnd.jupyter.widget-state+json": {
        "0afec1c2ce54483d99f7a7112fe93749": {
          "model_module": "@jupyter-widgets/controls",
          "model_module_version": "1.5.0",
          "model_name": "HTMLModel",
          "state": {
            "_dom_classes": [],
            "_model_module": "@jupyter-widgets/controls",
            "_model_module_version": "1.5.0",
            "_model_name": "HTMLModel",
            "_view_count": null,
            "_view_module": "@jupyter-widgets/controls",
            "_view_module_version": "1.5.0",
            "_view_name": "HTMLView",
            "description": "",
            "description_tooltip": null,
            "layout": "IPY_MODEL_fedd3ef0fe404bba96c9035f91aea98c",
            "placeholder": "​",
            "style": "IPY_MODEL_709ac57052814b7ba0448864ad29bb45",
            "value": "100%"
          }
        },
        "17da1792d0194bbabc890148e7d2aa0e": {
          "model_module": "@jupyter-widgets/controls",
          "model_module_version": "1.5.0",
          "model_name": "ProgressStyleModel",
          "state": {
            "_model_module": "@jupyter-widgets/controls",
            "_model_module_version": "1.5.0",
            "_model_name": "ProgressStyleModel",
            "_view_count": null,
            "_view_module": "@jupyter-widgets/base",
            "_view_module_version": "1.2.0",
            "_view_name": "StyleView",
            "bar_color": null,
            "description_width": ""
          }
        },
        "55abe3f5858944f7ba324c9325ff5036": {
          "model_module": "@jupyter-widgets/controls",
          "model_module_version": "1.5.0",
          "model_name": "HBoxModel",
          "state": {
            "_dom_classes": [],
            "_model_module": "@jupyter-widgets/controls",
            "_model_module_version": "1.5.0",
            "_model_name": "HBoxModel",
            "_view_count": null,
            "_view_module": "@jupyter-widgets/controls",
            "_view_module_version": "1.5.0",
            "_view_name": "HBoxView",
            "box_style": "",
            "children": [
              "IPY_MODEL_0afec1c2ce54483d99f7a7112fe93749",
              "IPY_MODEL_8b436b43f38e47d3807696ee1a98798e",
              "IPY_MODEL_bfd67f4a1341478e96514183ed114f01"
            ],
            "layout": "IPY_MODEL_6d26052eed0a4663b60b427a0e9f6f5a"
          }
        },
        "6d26052eed0a4663b60b427a0e9f6f5a": {
          "model_module": "@jupyter-widgets/base",
          "model_module_version": "1.2.0",
          "model_name": "LayoutModel",
          "state": {
            "_model_module": "@jupyter-widgets/base",
            "_model_module_version": "1.2.0",
            "_model_name": "LayoutModel",
            "_view_count": null,
            "_view_module": "@jupyter-widgets/base",
            "_view_module_version": "1.2.0",
            "_view_name": "LayoutView",
            "align_content": null,
            "align_items": null,
            "align_self": null,
            "border": null,
            "bottom": null,
            "display": null,
            "flex": null,
            "flex_flow": null,
            "grid_area": null,
            "grid_auto_columns": null,
            "grid_auto_flow": null,
            "grid_auto_rows": null,
            "grid_column": null,
            "grid_gap": null,
            "grid_row": null,
            "grid_template_areas": null,
            "grid_template_columns": null,
            "grid_template_rows": null,
            "height": null,
            "justify_content": null,
            "justify_items": null,
            "left": null,
            "margin": null,
            "max_height": null,
            "max_width": null,
            "min_height": null,
            "min_width": null,
            "object_fit": null,
            "object_position": null,
            "order": null,
            "overflow": null,
            "overflow_x": null,
            "overflow_y": null,
            "padding": null,
            "right": null,
            "top": null,
            "visibility": null,
            "width": null
          }
        },
        "6d7706369511413fb394f9f5f5f29235": {
          "model_module": "@jupyter-widgets/base",
          "model_module_version": "1.2.0",
          "model_name": "LayoutModel",
          "state": {
            "_model_module": "@jupyter-widgets/base",
            "_model_module_version": "1.2.0",
            "_model_name": "LayoutModel",
            "_view_count": null,
            "_view_module": "@jupyter-widgets/base",
            "_view_module_version": "1.2.0",
            "_view_name": "LayoutView",
            "align_content": null,
            "align_items": null,
            "align_self": null,
            "border": null,
            "bottom": null,
            "display": null,
            "flex": null,
            "flex_flow": null,
            "grid_area": null,
            "grid_auto_columns": null,
            "grid_auto_flow": null,
            "grid_auto_rows": null,
            "grid_column": null,
            "grid_gap": null,
            "grid_row": null,
            "grid_template_areas": null,
            "grid_template_columns": null,
            "grid_template_rows": null,
            "height": null,
            "justify_content": null,
            "justify_items": null,
            "left": null,
            "margin": null,
            "max_height": null,
            "max_width": null,
            "min_height": null,
            "min_width": null,
            "object_fit": null,
            "object_position": null,
            "order": null,
            "overflow": null,
            "overflow_x": null,
            "overflow_y": null,
            "padding": null,
            "right": null,
            "top": null,
            "visibility": null,
            "width": null
          }
        },
        "709ac57052814b7ba0448864ad29bb45": {
          "model_module": "@jupyter-widgets/controls",
          "model_module_version": "1.5.0",
          "model_name": "DescriptionStyleModel",
          "state": {
            "_model_module": "@jupyter-widgets/controls",
            "_model_module_version": "1.5.0",
            "_model_name": "DescriptionStyleModel",
            "_view_count": null,
            "_view_module": "@jupyter-widgets/base",
            "_view_module_version": "1.2.0",
            "_view_name": "StyleView",
            "description_width": ""
          }
        },
        "8b436b43f38e47d3807696ee1a98798e": {
          "model_module": "@jupyter-widgets/controls",
          "model_module_version": "1.5.0",
          "model_name": "FloatProgressModel",
          "state": {
            "_dom_classes": [],
            "_model_module": "@jupyter-widgets/controls",
            "_model_module_version": "1.5.0",
            "_model_name": "FloatProgressModel",
            "_view_count": null,
            "_view_module": "@jupyter-widgets/controls",
            "_view_module_version": "1.5.0",
            "_view_name": "ProgressView",
            "bar_style": "success",
            "description": "",
            "description_tooltip": null,
            "layout": "IPY_MODEL_8f3c522e01c34e05a75f8d02a86f3535",
            "max": 400,
            "min": 0,
            "orientation": "horizontal",
            "style": "IPY_MODEL_17da1792d0194bbabc890148e7d2aa0e",
            "value": 400
          }
        },
        "8f3c522e01c34e05a75f8d02a86f3535": {
          "model_module": "@jupyter-widgets/base",
          "model_module_version": "1.2.0",
          "model_name": "LayoutModel",
          "state": {
            "_model_module": "@jupyter-widgets/base",
            "_model_module_version": "1.2.0",
            "_model_name": "LayoutModel",
            "_view_count": null,
            "_view_module": "@jupyter-widgets/base",
            "_view_module_version": "1.2.0",
            "_view_name": "LayoutView",
            "align_content": null,
            "align_items": null,
            "align_self": null,
            "border": null,
            "bottom": null,
            "display": null,
            "flex": null,
            "flex_flow": null,
            "grid_area": null,
            "grid_auto_columns": null,
            "grid_auto_flow": null,
            "grid_auto_rows": null,
            "grid_column": null,
            "grid_gap": null,
            "grid_row": null,
            "grid_template_areas": null,
            "grid_template_columns": null,
            "grid_template_rows": null,
            "height": null,
            "justify_content": null,
            "justify_items": null,
            "left": null,
            "margin": null,
            "max_height": null,
            "max_width": null,
            "min_height": null,
            "min_width": null,
            "object_fit": null,
            "object_position": null,
            "order": null,
            "overflow": null,
            "overflow_x": null,
            "overflow_y": null,
            "padding": null,
            "right": null,
            "top": null,
            "visibility": null,
            "width": null
          }
        },
        "95b37a236cda418485445eae58a6bc36": {
          "model_module": "@jupyter-widgets/controls",
          "model_module_version": "1.5.0",
          "model_name": "DescriptionStyleModel",
          "state": {
            "_model_module": "@jupyter-widgets/controls",
            "_model_module_version": "1.5.0",
            "_model_name": "DescriptionStyleModel",
            "_view_count": null,
            "_view_module": "@jupyter-widgets/base",
            "_view_module_version": "1.2.0",
            "_view_name": "StyleView",
            "description_width": ""
          }
        },
        "bfd67f4a1341478e96514183ed114f01": {
          "model_module": "@jupyter-widgets/controls",
          "model_module_version": "1.5.0",
          "model_name": "HTMLModel",
          "state": {
            "_dom_classes": [],
            "_model_module": "@jupyter-widgets/controls",
            "_model_module_version": "1.5.0",
            "_model_name": "HTMLModel",
            "_view_count": null,
            "_view_module": "@jupyter-widgets/controls",
            "_view_module_version": "1.5.0",
            "_view_name": "HTMLView",
            "description": "",
            "description_tooltip": null,
            "layout": "IPY_MODEL_6d7706369511413fb394f9f5f5f29235",
            "placeholder": "​",
            "style": "IPY_MODEL_95b37a236cda418485445eae58a6bc36",
            "value": " 400/400 [00:02&lt;00:00, 188.68it/s]"
          }
        },
        "fedd3ef0fe404bba96c9035f91aea98c": {
          "model_module": "@jupyter-widgets/base",
          "model_module_version": "1.2.0",
          "model_name": "LayoutModel",
          "state": {
            "_model_module": "@jupyter-widgets/base",
            "_model_module_version": "1.2.0",
            "_model_name": "LayoutModel",
            "_view_count": null,
            "_view_module": "@jupyter-widgets/base",
            "_view_module_version": "1.2.0",
            "_view_name": "LayoutView",
            "align_content": null,
            "align_items": null,
            "align_self": null,
            "border": null,
            "bottom": null,
            "display": null,
            "flex": null,
            "flex_flow": null,
            "grid_area": null,
            "grid_auto_columns": null,
            "grid_auto_flow": null,
            "grid_auto_rows": null,
            "grid_column": null,
            "grid_gap": null,
            "grid_row": null,
            "grid_template_areas": null,
            "grid_template_columns": null,
            "grid_template_rows": null,
            "height": null,
            "justify_content": null,
            "justify_items": null,
            "left": null,
            "margin": null,
            "max_height": null,
            "max_width": null,
            "min_height": null,
            "min_width": null,
            "object_fit": null,
            "object_position": null,
            "order": null,
            "overflow": null,
            "overflow_x": null,
            "overflow_y": null,
            "padding": null,
            "right": null,
            "top": null,
            "visibility": null,
            "width": null
          }
        }
      }
    }
  },
  "nbformat": 4,
  "nbformat_minor": 0
}